{
 "cells": [
  {
   "cell_type": "markdown",
   "id": "8cddf78f",
   "metadata": {},
   "source": [
    "## Thema\n",
    "- Normalverteilung\n",
    "- Standardnormalverteilt\n",
    "- Chi-Quadratverteilung 𝝌𝟐−Verteilung\n",
    "- t-Verteilung (Student-Verteilung)"
   ]
  },
  {
   "cell_type": "code",
   "execution_count": null,
   "id": "ae165206",
   "metadata": {
    "vscode": {
     "languageId": "plaintext"
    }
   },
   "outputs": [],
   "source": []
  }
 ],
 "metadata": {
  "language_info": {
   "name": "python"
  }
 },
 "nbformat": 4,
 "nbformat_minor": 5
}

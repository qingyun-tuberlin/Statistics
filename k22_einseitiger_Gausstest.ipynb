{
 "cells": [
  {
   "cell_type": "markdown",
   "id": "b3208eef",
   "metadata": {},
   "source": [
    "## 公式\n",
    "$$\n",
    "Z = \\frac{\\bar{X} - \\mu_0}{\\sigma / \\sqrt{n}}\n",
    "$$\n"
   ]
  },
  {
   "cell_type": "markdown",
   "id": "37357da0",
   "metadata": {},
   "source": [
    "## 符号含义\n",
    "\n",
    "| 符号 | 中文解释 | 德文解释 |\n",
    "|------|-----------|-----------|\n",
    "| $\\bar{X}$ | 样本均值 | Stichprobenmittelwert |\n",
    "| $\\mu_0$ | 假设中的总体均值（H₀ 的值） | Erwartungswert unter H₀ |\n",
    "| $\\sigma$ | 总体标准差（已知） | bekannte Standardabweichung |\n",
    "| $n$ | 样本容量 | Stichprobengröße |\n",
    "| $Z$ | 检验统计量（标准化值） | Teststatistik (Z-Wert) |\n",
    "\n",
    "\n",
    "\n",
    "- 我们想知道：样本均值 $\\bar{X}$ 与假设的总体均值 $\\mu_0$ 之间的差距，相对于总体标准误 $\\frac{\\sigma}{\\sqrt{n}}$ 有多大。\n",
    "- 它实际上是一个标准化距离（Standardisierte Abweichung）\n",
    "\n"
   ]
  },
  {
   "cell_type": "markdown",
   "id": "e6a88958",
   "metadata": {},
   "source": [
    "## 应用条件（Anwendungsvoraussetzungen）\n",
    "| 条件 | 说明 |\n",
    "|------|------|\n",
    "| 1️ 总体方差已知 | $\\sigma$ 已知（否则不能用 Z 检验） |\n",
    "| 2️ 样本独立 | 独立抽样 |\n",
    "| 3️ 正态分布 | 总体近似正态，或 $n \\ge 30$（中心极限定理） |\n",
    "\n",
    "- 若 $\\sigma$ 未知，则改用 **t 检验（t-Test）**。"
   ]
  },
  {
   "cell_type": "markdown",
   "id": "b34aa46e",
   "metadata": {},
   "source": [
    "## 检验步骤（Einstichproben-Z-Test – Schritt-für-Schritt）\n",
    "\n",
    "| 步骤 | 内容 | 中文解释 | 德文说明 |\n",
    "|------|------|-----------|-----------|\n",
    "| 1 | **Hypothesen aufstellen** | 建立假设：<br> H₀: μ = μ₀ <br> H₁: μ ≠ μ₀（双侧）或 μ > μ₀ / μ < μ₀（单侧） | Null- und Alternativhypothese formulieren |\n",
    "| 2️ | **Teststatistik berechnen** | 计算 Z 值：<br> $$Z = \\frac{\\bar{X} - \\mu_0}{\\sigma / \\sqrt{n}}$$ | Berechne den standardisierten Z-Wert |\n",
    "| 3️ | **Kritischen Wert bestimmen** | 查标准正态分布表，根据 α（显著性水平）找出临界值 z₍1−α/2₎ | Kritischen Wert aus der Z-Tabelle bestimmen |\n",
    "| 4️ | **Vergleich / Entscheidung** | 若 \\|Z\\| > z₍1−α/2₎ → 拒绝 H₀；<br>否则接受 H₀ | Entscheidung anhand des Vergleichs |\n",
    "| 5️ | **Interpretation** | 根据结果解释是否样本均值显著偏离 μ₀ | Interpretation des Ergebnisses |\n"
   ]
  },
  {
   "cell_type": "markdown",
   "id": "237e2026",
   "metadata": {},
   "source": [
    " ### 📊 Verwerfungsbereich / Ablehnungsbereich（拒绝域）\n",
    "\n",
    "| 检验类型 | 假设形式 | 拒绝域（Verwerfungsbereich） | 判断标准 | 检验目的 |\n",
    "|-----------|-----------|------------------------------|------------|------------|\n",
    "| **双侧检验 (zweiseitig)** | $H_0: \\mu = \\mu_0$ <br> $H_1: \\mu \\neq \\mu_0$ | $Z < -z_{1-\\alpha/2}$ **或** $Z > z_{1-\\alpha/2}$ | 若 $\\lvert Z \\rvert > z_{1-\\alpha/2}$ → 拒绝 $H_0$ | 检验均值是否与 $\\mu_0$ 不同（偏高或偏低） |\n",
    "| **右侧检验 (einseitig rechts)** | $H_0: \\mu \\le \\mu_0$ <br> $H_1: \\mu > \\mu_0$ | $Z > z_{1-\\alpha}$ | 若 $Z > z_{1-\\alpha}$ → 拒绝 $H_0$ | 检验均值是否显著高于 $\\mu_0$ |\n",
    "| **左侧检验 (einseitig links)** | $H_0: \\mu \\ge \\mu_0$ <br> $H_1: \\mu < \\mu_0$ | $Z < -z_{1-\\alpha}$ | 若 $Z < -z_{1-\\alpha}$ → 拒绝 $H_0$ | 检验均值是否显著低于 $\\mu_0$ |\n",
    "\n",
    "\n",
    "\n",
    "\n"
   ]
  },
  {
   "cell_type": "markdown",
   "id": "511486aa",
   "metadata": {},
   "source": [
    "## 练习题\n",
    "\n",
    "- 某工厂宣称产品平均长度 $\\mu_0 = 50$ cm。随机抽取 $n=36$ 个样品，得到样本均值 $\\bar{X}=49.5$，已知 $\\sigma=1.2$。 \n",
    "- $Z = \\frac{49.5 - 50}{1.2 / \\sqrt{36}} = \\frac{-0.5}{0.2} = -2.5$\n",
    "- 双侧 $\\alpha=0.05$ → 临界值 ±1.96 \n",
    "- 因为 $|-2.5| > 1.96$，拒绝 $H_0$ \n",
    "- 结论：样本均值显著小于 50 cm \n"
   ]
  }
 ],
 "metadata": {
  "language_info": {
   "name": "python"
  }
 },
 "nbformat": 4,
 "nbformat_minor": 5
}
